{
 "cells": [
  {
   "cell_type": "markdown",
   "metadata": {},
   "source": [
    "https://en.wikipedia.org/wiki/Letter_frequency\n",
    "\n",
    "Single letter statistic\n"
   ]
  },
  {
   "cell_type": "code",
   "execution_count": 1,
   "metadata": {},
   "outputs": [],
   "source": [
    "from string import ascii_uppercase\n",
    "from string import ascii_lowercase\n",
    "from random import shuffle\n",
    "from random import randint\n",
    "import pandas as pd\n",
    "import time\n",
    "import string\n",
    "\n",
    "from math import log10\n",
    "\n",
    "import math\n",
    "from math import e\n",
    "\n",
    "\n",
    "import random\n",
    "import numpy as np\n",
    "\n",
    "global best_score\n",
    "global best_key"
   ]
  },
  {
   "cell_type": "markdown",
   "metadata": {},
   "source": [
    "# File open"
   ]
  },
  {
   "cell_type": "markdown",
   "metadata": {},
   "source": [
    "File english_quadgrams open"
   ]
  },
  {
   "cell_type": "code",
   "execution_count": 2,
   "metadata": {},
   "outputs": [],
   "source": [
    "quadgram = open(\"english_quadgrams.txt\", \"r\")"
   ]
  },
  {
   "cell_type": "code",
   "execution_count": 3,
   "metadata": {},
   "outputs": [],
   "source": [
    "quadgramtxt = quadgram.readlines()"
   ]
  },
  {
   "cell_type": "markdown",
   "metadata": {},
   "source": [
    "File quadramStat"
   ]
  },
  {
   "cell_type": "code",
   "execution_count": 4,
   "metadata": {},
   "outputs": [],
   "source": [
    "quad_stat = open(\"quadramStat.txt\", \"r\")"
   ]
  },
  {
   "cell_type": "code",
   "execution_count": 5,
   "metadata": {},
   "outputs": [],
   "source": [
    "quad_stat_line = quad_stat.readlines()"
   ]
  },
  {
   "cell_type": "code",
   "execution_count": 6,
   "metadata": {},
   "outputs": [],
   "source": [
    "for i in range(len(quad_stat_line)):\n",
    "    quad_stat_line[i] = quad_stat_line[i].replace(\",\", \"\")\n",
    "    quad_stat_line[i] = quad_stat_line[i].replace(\"\\n\", \"\")\n",
    "    quad_stat_line[i] = float(quad_stat_line[i])"
   ]
  },
  {
   "cell_type": "code",
   "execution_count": 7,
   "metadata": {},
   "outputs": [],
   "source": [
    "assigned_full_text = \"RAAPOKFRDCXRQSRIDHXQIGBTZBQXIHIGWLROGZHETVRBBRNPTCRBSIRBSQWLZOBEGKBCLWQWUBHMRUTBSILFNTPCKVLFDBRZZRHILFBWQKWSFIWBQWRGRQFGTORYBYFSROLMATHOWLPRMOROXDFCQHGBOZRBSIRBSQIYSQXGGTBXLWTVCMWXLFBVRGZRZKKOBMBUMRGPYBQSXPESXTZROCQKBYFSRMBAORSXCTEOGZHERZRBBRNPMRLNXLHDXBQYHELNFXRYWLUVHETCRIURLWLVRBFWIRAGROMKBXKNIGTCBYSEOTKVPBKAHEGIBYIRDXDIWLDEQKXBKNAGRGHETVQIRNRWQRXTYRSIFTBGLMHDGBWQBYFSSRZRESVBQESGWQAPDSBTRILXFIIGEOCOBYSRWTXTRGMQORINIGQWROOUDADHQMVGROSQGZHEBZRZGILWIGWBMETOQFMZWBBYWRSIRBSQNVBXHFQKWLYRXRKBZBRNBYXRMALARBBRDHTCBYXGGTBXLWTVROYHMYBXCKQSRSLNFXCYROXDFCDLQIIXAKUOLCCTKVLFQKBYXGKURBFRLWRYRWQIEQOZLMTVQWNBSILFNTPCKVLFQHBXUGCWTOAKVTRWNHIFYRRORNBYIGTZIXBYARKLFIYRSIQSEHWLMCOSRBFBLTRZIGTCWSFIWBQWRGRSYRZBBRATKAGFCFQIIHIGWLBYIGORZOBYXRRWBECYROXDFCVBZRQSZGNBCMRACOLHQKTHAGRGHETVBXOQORWOIFYRHDDITCTBXTKNBTRIDHXQFXKNBHMZTOOTTESRBWVCNITVRNBTRIDHXQWRZBRWQXTSTCFSTVRUIGBTSRVOGFADRNBYFITOGHCMBYRMFIMBIFQSWLHEGIBYIRDXDIWLURRNBYWRFHFRWOBHYRSQOTBEYROVRYTZTBSITEEHFQLCLYRZRIWQKVRAQIBTWLGIGFLKWQBNZNSQXWTNSIGIRBYBBCQIRODHSQBYEHIFWGGFBOTRLKBEGZMLSIKWTRVTULEHSQBTZOBEGKBCMYTZTOKGRNBYWQPZRIOTWFYRFHRBIGZGAQXLTOMRWOSIATHOWLURBROTKVKBSICPVPDFSQWKFIIYSQISFIRZBHRNBWQKSIWKFIIYRBBYFQTCRSVGWQQFMYEDYBRITVUBKTXTTNSIATHOMEIQCBKNBHMGVBQFBYFQWBMNAPLNHDYRRBFSWQOWBEUBMNTCBWVKIGLXGIRCCMBYXRWOSQZOBYCMBYIRCOLHQKIYFLSISFQEIGQSQFKNNHTCMRLFBVSFIHRZMBEYGFCFQIZODWQKBYFXQSMQOUFWOTYOSIUGYRZTLKGIAOEHYRQSYKADHDIHQKMBQIHEKNSIXTVCQHVOLTSRSGWQRZGFCFQIZOGWBYFXTETZPBYKRZBREBVORSBTQIVUWRSIBYXRRWOBSIHFRGHEQIBHBOEDYBWLBYFQWQRWOTWOSIGBOZRBSIRBSQOZTVZQBFQFVOLTISXRBGZRHWQKWLRZFQTCULHIFRIYFLZMMBEYZORGHEQXWLRWTQBVYRAGNOGABVUBZOESBTBYIRDXDIWLURZOQYCAFLFRECWFQRQSRZZGORLNWRZBBYXRLKTBSIQRIXBYBHOCKNSIEQAPLKICRCTOCMBYIRDXDIWLKESQWQTBWLXDQSIHKNSIRBBRNPADBYSGFEGOSRRSMEXRQRBYRBZOKTTBSIQRIYTFSQSRSINBSQWLDEKNSIADHDIHQKQSZOWLADBEIGKVGIOBSIAGRLLDSG\"\n",
    "dec_full_text = \"ABOUTPEOPLEAREBELIEVEDTOHAVEDIEDINARUSSIANATTACKONATHEATERINMARIUPOLNINEDAYSAGOTHECITYCOUNCILHASSAIDCITINGEYEWITNESQSREPORTSTHEMARCHBOMBINGOFMARIUPOLSDRAMATHEATERWHEREUKRAINIANOFFICIALSQSAYUPTOHADSOUGHTREFUGEWASAMONGTHEMOSTBRAZENOFRUSSIASATTACKSONCIVILIANSSINCEITSINVASIONBEGANINLATEFEBRUARYPAINTEDONTHEGROUNDOUTSIDETHEBUILDINGINGIANTRUSQSIANLETQTERSWASTHEWORDCHILDRENTHEMESSAGELARGEQENOUGHTOBEVIEWEDFROMTHESKYWASQSCRAWLEDNEARAPUBLICSQUARERUSSIAHASDENIEDITSFORCESHITTHETHEATERCLAIMINGINSTEADTHATQTHEAZOVBATTALIONTHEUKRAINIANARMYSMAINPRESENCEINMARIUPOLBLEWITUPANQNOUNCINGTHEUPDATEONITSTELEGRAMCHANNELTHECITYCOUNCILSAIDUNFORTUNATELYWESTARTQTHEDAYWITHBADNEWSTHEREISINFORMATIONBASEDONEYEWITNESQSESTHATABOUTPEOPLEDIEDINTHEDRAMATHEATERINMARIUPOLASARESULTOFABOMBINGBYRUSQSIANAIRCRAFTWESTILLDONOTWANTTOBELIEVEINTHISHORRORWESTILQLWANTQTOBELIEVETHATEVERYONEMANAGEDTOESCAPEBUTQTHEWORDSOFTHOSEWHOWEREINSIDETHEBUILDINGATQTHETIMEOFTHISTERRORISTACTSAYOTHERWISECNQNHASBEENUNABLETOINDEPENDENTLYVERIFYTHEDEATHTOLLEARLIERTHISWEEKPETROANDRIUSHCHENKOANADVISERTOMARIUPOLSMAYORPUTQTHENUMBEROFESTIMATEDSURVIVORSOFTHEBOMBINGATAROUNDTHEOCCUPIERKNEWWHEREHEWASHITQTINGHEKNEWWHATTHECONSEQUENCESMIGHTBEANDANYWAYTHEBOMBSFELLONTHISPLACETHECITYCOUNCILSTATEMENTFRIDAYCONTINUEDVIDEOQOFTHEAFTERMATHOFTHEBOMBINGWHICHEMERGEDRECENTLYONSOCIALMEDIASHOWSPEOPLEMAKINGTHEIRESCAPEFROMTHEDUSTYANDDEBRISSTREWNBUILDINGHOLESINTHEWALQLSCANBESEQENASPEOPLEMAKETHEIRWAYDOWNASTAIRCASETOLEAVETHETHEATERTHEMISQSILEHITRIGHTINTHECENTEROFTHEDRAMATHEATERAMANSVOICECANBEHEARDSAYINGINASECONDVIDEOWHICHSHOWSMASQSIVEINTERNALSTRUCTURALDAMAGETOTHEBUILDINGAMANSVOICEOFQFERSREASSURANCETHATHEANDOTHERSWITHHIMONTHEGROUNDFLOQOROFTHEBUILDINGWERENOTINIUREDINTHEATTACKBUTHEQEXPRESSESFEARSTHATMANYOTHERSWHOWERESHELTERINGINTHEBUILDINGREMAINBURIEDUNDERTHERUBQBLEQ\"\n",
    "\n"
   ]
  },
  {
   "cell_type": "code",
   "execution_count": 8,
   "metadata": {},
   "outputs": [
    {
     "data": {
      "text/plain": [
       "7144"
      ]
     },
     "execution_count": 8,
     "metadata": {},
     "output_type": "execute_result"
    }
   ],
   "source": [
    "len(assigned_full_text) * 4"
   ]
  },
  {
   "cell_type": "markdown",
   "metadata": {},
   "source": [
    "## Random key generator"
   ]
  },
  {
   "cell_type": "code",
   "execution_count": 9,
   "metadata": {},
   "outputs": [],
   "source": [
    "def random_key_generator():\n",
    "    playfair_key_list = ['A', 'B', 'C', 'D', 'E', 'F', 'G', 'H', 'I', 'K', 'L', 'M', 'N', 'O', 'P', 'Q', 'R', 'S', 'T', 'U', 'V', 'W', 'X', 'Y', 'Z']\n",
    "    playfair_key = np.array(playfair_key_list)\n",
    "    np.random.shuffle(playfair_key)\n",
    "    playfair_key = np.reshape(playfair_key,(5,5))\n",
    "    return playfair_key"
   ]
  },
  {
   "cell_type": "code",
   "execution_count": 10,
   "metadata": {},
   "outputs": [],
   "source": [
    "import string"
   ]
  },
  {
   "cell_type": "markdown",
   "metadata": {},
   "source": [
    "# Cleaning encrypted message"
   ]
  },
  {
   "cell_type": "code",
   "execution_count": 11,
   "metadata": {},
   "outputs": [],
   "source": [
    "#This is to clearn string, remove spaces, punctuations, and new lines..\n",
    "def clean_Message(txt):\n",
    "    txt = txt.replace(\" \", \"\")\n",
    "    txt = txt.replace(\"\\n\", \"\")\n",
    "    txt = txt.replace(\".\", \"\")\n",
    "    for ch in string.punctuation:\n",
    "        txt = txt.replace(ch, \"\")\n",
    "    txt = txt.upper()\n",
    "    return txt"
   ]
  },
  {
   "cell_type": "markdown",
   "metadata": {},
   "source": [
    "# Random number generator"
   ]
  },
  {
   "cell_type": "code",
   "execution_count": 12,
   "metadata": {},
   "outputs": [],
   "source": [
    "def random_number_generator():\n",
    "    random_number = randint(0,4)\n",
    "    return random_number"
   ]
  },
  {
   "cell_type": "markdown",
   "metadata": {},
   "source": [
    "# Scoring"
   ]
  },
  {
   "cell_type": "code",
   "execution_count": 13,
   "metadata": {},
   "outputs": [],
   "source": [
    "def score_text_Qgram(text):\n",
    "    text_len = len(text)\n",
    "    score = 0;\n",
    "    for i in range(text_len - 3):\n",
    "        temp0 = ord(text[i]) - 65\n",
    "        temp1 = ord(text[i + 1]) - 65\n",
    "        temp2 = ord(text[i + 2]) - 65\n",
    "        temp3 = ord(text[i + 3]) - 65\n",
    "        score = score + quad_stat_line[17576*temp0 + 676*temp1 + 26*temp2 + temp3 ]\n",
    "    return score;"
   ]
  },
  {
   "cell_type": "markdown",
   "metadata": {},
   "source": [
    "# Shuffling"
   ]
  },
  {
   "cell_type": "code",
   "execution_count": 14,
   "metadata": {},
   "outputs": [],
   "source": [
    "def key_shuffling(key):\n",
    "    key = key.tolist()\n",
    "    key_loc1_c = random_number_generator()\n",
    "    key_loc1_r = random_number_generator()\n",
    "    key_loc2_c = random_number_generator()\n",
    "    key_loc2_r = random_number_generator()\n",
    "    while key_loc1_c == key_loc2_c and key_loc1_r == key_loc2_r:\n",
    "        key_loc1_c = random_number_generator()\n",
    "        key_loc1_r = random_number_generator()\n",
    "        key_loc2_c = random_number_generator()\n",
    "        key_loc2_r = random_number_generator()\n",
    "    \n",
    "    key_1 = key[key_loc1_c][key_loc1_r]\n",
    "    key_2 = key[key_loc2_c][key_loc2_r]\n",
    "    \n",
    "#     print(key_1, key_2)\n",
    "    \n",
    "    key[key_loc1_c][key_loc1_r] = key_2\n",
    "    key[key_loc2_c][key_loc2_r] = key_1\n",
    "    key = np.array(key)\n",
    "    \n",
    "    return key"
   ]
  },
  {
   "cell_type": "code",
   "execution_count": 15,
   "metadata": {},
   "outputs": [],
   "source": [
    "def key_shuffling_row(key):\n",
    "    \n",
    "    row1 = random_number_generator()\n",
    "    row2 = random_number_generator()\n",
    "    \n",
    "    while row1 == row2:\n",
    "        row1 = random_number_generator()\n",
    "        row2 = random_number_generator()\n",
    "        \n",
    "    key[[row1, row2]] = key[[row2,row1]]    \n",
    "    \n",
    "    return key"
   ]
  },
  {
   "cell_type": "code",
   "execution_count": 16,
   "metadata": {},
   "outputs": [],
   "source": [
    "def key_shuffling_col(key):\n",
    "\n",
    "    col1 = random_number_generator()\n",
    "    col2 = random_number_generator()\n",
    "    \n",
    "    while col1 == col2:\n",
    "        col1 = random_number_generator()\n",
    "        col2 = random_number_generator()\n",
    "    \n",
    "#     print(col1, col2)\n",
    "    \n",
    "    temp = key[:,[col1]]\n",
    "    temp2 = key[:, [col2]]\n",
    "    key[:, [col1]] = key[:, [col2]]\n",
    "    key[:, [col2]] = temp\n",
    "    \n",
    "    return key"
   ]
  },
  {
   "cell_type": "code",
   "execution_count": 17,
   "metadata": {},
   "outputs": [],
   "source": [
    "#This function accepts a key and then flip the key from top to bottom\n",
    "def key_flip_top_to_bot(key):\n",
    "    key = key[::-1]\n",
    "    return key"
   ]
  },
  {
   "cell_type": "code",
   "execution_count": 18,
   "metadata": {},
   "outputs": [],
   "source": [
    "#This function accepts a key and then flip the key from left to right\n",
    "def key_flip_right_to_left(key):\n",
    "    key = key[:,::-1]\n",
    "    return key"
   ]
  },
  {
   "cell_type": "code",
   "execution_count": 19,
   "metadata": {},
   "outputs": [],
   "source": [
    "def key_transpose_NW_SE(key):\n",
    "    key = np.transpose(key)\n",
    "    key = key_flip_right_to_left(key)\n",
    "    key = key_flip_top_to_bot(key)\n",
    "    return key"
   ]
  },
  {
   "cell_type": "code",
   "execution_count": 20,
   "metadata": {},
   "outputs": [],
   "source": [
    "def key_shuffling_(key):\n",
    "#     lucky_number = randint(1,6)\n",
    "    rand_max = 2147483647\n",
    "    lucky_number = random.randint(0,rand_max)%50\n",
    "    \n",
    "    if lucky_number == 0:\n",
    "        key = key_shuffling_row(key)\n",
    "    elif lucky_number == 1:\n",
    "        key = key_shuffling_col(key)\n",
    "    elif lucky_number == 2:\n",
    "        key = key_flip_top_to_bot(key)\n",
    "    elif lucky_number == 3:\n",
    "        key = key_flip_right_to_left(key)\n",
    "    elif lucky_number == 4:\n",
    "        key = key_transpose_NW_SE(key)\n",
    "    else:\n",
    "        key = key_shuffling(key)\n",
    "    \n",
    "#     print(lucky_number)\n",
    "    return key"
   ]
  },
  {
   "cell_type": "markdown",
   "metadata": {},
   "source": [
    "# Decrypting"
   ]
  },
  {
   "cell_type": "code",
   "execution_count": 21,
   "metadata": {},
   "outputs": [],
   "source": [
    "#Returns list of the location\n",
    "def findLoc(twoDL, data):\n",
    "    for i, e in enumerate(twoDL):\n",
    "        ans = np.argwhere(a == data).tolist()\n",
    "        ans = list(np.array(ans).flatten())\n",
    "        return ans\n",
    "        "
   ]
  },
  {
   "cell_type": "code",
   "execution_count": 22,
   "metadata": {},
   "outputs": [],
   "source": [
    "#Input: key and a letter\n",
    "#Output: the location of the letter in the key\n",
    "def findLoc(key, data):\n",
    "    ans = np.argwhere(key == data).tolist()\n",
    "    ans = list(np.array(ans).flatten())\n",
    "    return ans\n",
    "        "
   ]
  },
  {
   "cell_type": "code",
   "execution_count": 23,
   "metadata": {},
   "outputs": [],
   "source": [
    "#Input: Key and Two letter\n",
    "#Try to find out the location of each letter\n",
    "#Output: Location of two letter in the array a\n",
    "def two_letter(key, x):\n",
    "    ans1 = findLoc(key, x[0])\n",
    "    ans2 = findLoc(key, x[1])\n",
    "    return ans1, ans2"
   ]
  },
  {
   "cell_type": "code",
   "execution_count": 24,
   "metadata": {},
   "outputs": [],
   "source": [
    "#Input: location of letter 1 and letter 2\n",
    "#Ouput: Corresponding location of letter 1 and 2\n",
    "def move_letter(ans1, ans2, key):\n",
    "    ans1_R = ans1[0]\n",
    "    ans1_C = ans1[1]\n",
    "    ans2_R = ans2[0]\n",
    "    ans2_C = ans2[1]\n",
    "    ans_list = []\n",
    "    \n",
    "    if ans1_C == ans2_C:\n",
    "        ans1_R = (ans1_R - 1) % 5\n",
    "        ans2_R = (ans2_R - 1 ) % 5\n",
    "        ans1_letter = key[ans1_R][ans1_C]\n",
    "        ans2_letter = key[ans2_R][ans2_C]\n",
    "        ans_list.append(ans1_letter)\n",
    "        ans_list.append(ans2_letter)\n",
    "        return ans_list\n",
    "    \n",
    "    elif ans1_R == ans2_R:\n",
    "        ans1_C = (ans1_C - 1) % 5\n",
    "        ans2_C = (ans2_C - 1) % 5\n",
    "        ans1_letter = key[ans1_R][ans1_C]\n",
    "        ans2_letter = key[ans2_R][ans2_C]\n",
    "        ans_list.append(ans1_letter)\n",
    "        ans_list.append(ans2_letter)\n",
    "        return ans_list\n",
    "\n",
    "    else:\n",
    "        ans1_C_temp = ans1_C\n",
    "        ans2_C_temp = ans2_C\n",
    "        ans1_C = ans2_C_temp\n",
    "        ans2_C = ans1_C_temp\n",
    "        ans1_letter = key[ans1_R][ans1_C]\n",
    "        ans2_letter = key[ans2_R][ans2_C]\n",
    "        ans_list.append(ans1_letter)\n",
    "        ans_list.append(ans2_letter)\n",
    "        return ans_list\n"
   ]
  },
  {
   "cell_type": "code",
   "execution_count": 25,
   "metadata": {},
   "outputs": [],
   "source": [
    "def txt_join(text_in_list):\n",
    "    letter = ''.join([''.join(txt) for txt in text_in_list])\n",
    "    return letter"
   ]
  },
  {
   "cell_type": "code",
   "execution_count": 26,
   "metadata": {},
   "outputs": [],
   "source": [
    "#Input: cipher text string\n",
    "#Output: letter pairs list\n",
    "def spliter(cipher_text):\n",
    "    ct_list = [cipher_text[i:i+2] for i in range(0, len(cipher_text), 2)]\n",
    "    return ct_list"
   ]
  },
  {
   "cell_type": "code",
   "execution_count": 27,
   "metadata": {},
   "outputs": [],
   "source": [
    "#Input: cipher text and key\n",
    "#Ouput: decrypted message with the key\n",
    "def Decryption(cipher_text, key):\n",
    "    cipher_text_list = spliter(cipher_text)\n",
    "    decryption_list = []\n",
    "    for text in cipher_text_list:\n",
    "        text = text.upper()\n",
    "        tla = two_letter(key,text)\n",
    "        ans1 = tla[0]\n",
    "        ans2 = tla[1]\n",
    "        letter_list = move_letter(ans1, ans2,key)\n",
    "        decryption_list.append(letter_list)\n",
    "        decryption_list_flat = [i for subitem in decryption_list for i in subitem]\n",
    "        decrypt_msg = txt_join(decryption_list_flat)\n",
    "    return decrypt_msg"
   ]
  },
  {
   "cell_type": "code",
   "execution_count": 28,
   "metadata": {},
   "outputs": [],
   "source": [
    "#This test cipher message was my playfair assignment message\n",
    "\n",
    "testCipher = \"ONOZPWOAMWTRVECKXIWGCMWQONOAMWWGAQOIGQWQEKKSOKWK\"\n",
    "asstestkey = np.array([['Z', 'X','S','D','O'],\n",
    "           ['B','Y','C','F','U'],\n",
    "           ['G','M','A','Q','E'],\n",
    "           ['V','P','K','L','N'],\n",
    "           ['H','T','I','R','W']])"
   ]
  },
  {
   "cell_type": "code",
   "execution_count": 29,
   "metadata": {
    "scrolled": true
   },
   "outputs": [
    {
     "data": {
      "text/plain": [
       "'WEDONTSEETHINGSASTHEYAREWESEETHEMASWEAREANAISNIN'"
      ]
     },
     "execution_count": 29,
     "metadata": {},
     "output_type": "execute_result"
    }
   ],
   "source": [
    "#This is to test Decryption function.\n",
    "Decryption(testCipher,asstestkey)"
   ]
  },
  {
   "cell_type": "markdown",
   "metadata": {},
   "source": [
    "# First try"
   ]
  },
  {
   "cell_type": "markdown",
   "metadata": {},
   "source": [
    "Based on the slides on Feb 15th and Mar 1st. I originally thought that I would be able to use pi.\n",
    "So my intention was that if I can find letter statistic of key,A, and another key, A_prime. After that, I can find differences such that english_pi - letter_statistic(A) and english_pi - letter_statistic(A_prime). I can find absolute value of those two number and I can pick the key with smaller differnece. "
   ]
  },
  {
   "cell_type": "markdown",
   "metadata": {},
   "source": [
    "# Scoring"
   ]
  },
  {
   "cell_type": "code",
   "execution_count": 30,
   "metadata": {},
   "outputs": [],
   "source": [
    "def english_pi():\n",
    "    letter_stat_list = pd.read_csv('English_letter_stat.csv')\n",
    "    Englist_letter = letter_stat_list['Letter'].tolist()\n",
    "    Englist_stats = letter_stat_list['Frequency'].tolist()\n",
    "    english_stats_dict = dict(zip(Englist_letter,Englist_stats))\n",
    "    result_final = 0\n",
    "    for i in english_stats_dict:\n",
    "        value_i = english_stats_dict[i]\n",
    "        result = value_i * math.log(value_i)\n",
    "        result_final = result_final + result\n",
    "    return result_final"
   ]
  },
  {
   "cell_type": "code",
   "execution_count": 31,
   "metadata": {
    "scrolled": true
   },
   "outputs": [
    {
     "data": {
      "text/plain": [
       "-2.898125838249284"
      ]
     },
     "execution_count": 31,
     "metadata": {},
     "output_type": "execute_result"
    }
   ],
   "source": [
    "english_pi()"
   ]
  },
  {
   "cell_type": "code",
   "execution_count": 32,
   "metadata": {},
   "outputs": [],
   "source": [
    "def letter_stat(msg):\n",
    "    alpha_dict_key = [chr(65 + i) for i in range(26)]\n",
    "    dic_dict_value = [0 for i in range(26)]\n",
    "    letter_stats_dictionary = dict(zip(alpha_dict_key, dic_dict_value))\n",
    "    total_number = len(msg)\n",
    "    for i in msg:\n",
    "        if i in letter_stats_dictionary:\n",
    "            letter_value = letter_stats_dictionary[i]\n",
    "            letter_value = letter_value + 1\n",
    "            letter_stats_dictionary[i] = letter_value\n",
    "    \n",
    "    for i in letter_stats_dictionary:\n",
    "        letter_value = letter_stats_dictionary[i]\n",
    "        letter_value_percentage = letter_value / total_number\n",
    "        letter_stats_dictionary[i] = letter_value_percentage\n",
    "    \n",
    "    return letter_stats_dictionary"
   ]
  },
  {
   "cell_type": "code",
   "execution_count": 33,
   "metadata": {},
   "outputs": [],
   "source": [
    "def letter_stat_score(letter_stat_dict):\n",
    "    result_final = 0\n",
    "    for i in letter_stat_dict:\n",
    "        value_i = letter_stat_dict[i]\n",
    "        if value_i != 0:\n",
    "            result = value_i * math.log(value_i)\n",
    "            result_final = result_final + result\n",
    "    return result_final\n",
    "    "
   ]
  },
  {
   "cell_type": "code",
   "execution_count": 34,
   "metadata": {},
   "outputs": [],
   "source": [
    "def key_selector(score_diff,score_diff_prime,key_array,key_array_prime):\n",
    "    if abs(score_diff) < abs(score_diff_prime):\n",
    "        key_current = key_array\n",
    "    else:\n",
    "        key_current = key_array_prime\n",
    "    return key_current"
   ]
  },
  {
   "cell_type": "code",
   "execution_count": 35,
   "metadata": {},
   "outputs": [],
   "source": [
    "def score_selector(score_diff,score_diff_prime):\n",
    "    if abs(score_diff) < abs(score_diff_prime):\n",
    "        score_current = score_diff\n",
    "    else:\n",
    "        score_current = score_diff_prime\n",
    "    return score_current"
   ]
  },
  {
   "cell_type": "code",
   "execution_count": 36,
   "metadata": {},
   "outputs": [],
   "source": [
    "def break_playfair(ciphertext,itr):\n",
    "    \n",
    "    #Find pi score(-2.8981..)\n",
    "    pi_score = english_pi()\n",
    "    i = 0\n",
    "    #Clean the cipher text\n",
    "    clean_cipher_text = clean_Message(ciphertext)\n",
    "    \n",
    "    #random key generator\n",
    "    key_array = random_key_generator()\n",
    "    #decrypt the message with the first key generated\n",
    "    ini_decrypted_messaged = Decryption(clean_cipher_text,key_array)\n",
    "    \n",
    "    #swap two letters on the initial key\n",
    "    key_array_prime = key_shuffling(key_array)\n",
    "    #decrypt the message with the shuffled array\n",
    "    decrypted_messaged_prime = Decryption(clean_cipher_text,key_array_prime)\n",
    "\n",
    "    #find scores on both decrypted messages\n",
    "    score = letter_stat_score(letter_stat(ini_decrypted_messaged))\n",
    "    score_prime = letter_stat_score(letter_stat(decrypted_messaged_prime))\n",
    "    \n",
    "    current_score = score\n",
    "    key_current = key_array\n",
    "    \n",
    "    \n",
    "    score_diff = score - pi_score\n",
    "    score_diff_prime = score_prime - pi_score\n",
    "    \n",
    "    #if the difference between score_diff and score_diff_prime is less than 0.05 then\n",
    "    #I fipped the coin. \n",
    "    #I tried to use statistical significance. \n",
    "    #Though I am not sure if I am using it properly\n",
    "    if(score_diff - score_diff_prime < pi_score * 0.05):\n",
    "        coin_probability = unfaircoin_percentage(score_diff,score_diff_prime)\n",
    "        coin_result = unfaircoin(coin_probability)\n",
    "        if coin_result == 1:\n",
    "            current_score = score\n",
    "        else:\n",
    "            current_score = score_prime\n",
    "    #If the difference is bigger than that, it picks the one with smaller value\n",
    "    else:\n",
    "        key_current = key_selector(score_diff,score_diff_prime,key_array,key_array_prime)\n",
    "        score_current_diff = score_selector(score_diff,score_diff_prime)\n",
    "    \n",
    "\n",
    "    while i < itr:\n",
    "        key_array_prime = key_shuffling(key_current)\n",
    "        decrypted_list_prime = Decryption(clean_cipher_text,key_array_prime)\n",
    "        decrypted_messaged_prime = txt_join(decrypted_list_prime)\n",
    "        score_prime = letter_stat_score(letter_stat(decrypted_messaged_prime))\n",
    "        \n",
    "        score_diff = score_prime - pi_score\n",
    "\n",
    "        score_diff_prime = score_prime - pi_score\n",
    "        \n",
    "        #Applied statistical significance.\n",
    "        if(score_current_diff - score_diff_prime < pi_score * 0.05):\n",
    "            coin_probability = unfaircoin_percentage(score_diff,score_diff_prime)\n",
    "            coin_result = unfaircoin(coin_probability)\n",
    "            if coin_result == 1:\n",
    "                current_score = score\n",
    "            else:\n",
    "                current_score = score_prime\n",
    "        else:\n",
    "            key_current = key_selector(score_diff,score_diff_prime,key_array,key_array_prime)\n",
    "            score_current_diff = score_selector(score_diff,score_diff_prime)\n",
    "        \n",
    "        if i % 50 == 0:\n",
    "            print(i)\n",
    "#             print(decrypted_messaged_prime)\n",
    "#             print(score_current_diff)\n",
    "        i = i + 1\n",
    "        \n",
    "#         print(score)\n",
    "    return decrypted_messaged_prime"
   ]
  },
  {
   "cell_type": "code",
   "execution_count": 37,
   "metadata": {},
   "outputs": [
    {
     "name": "stdout",
     "output_type": "stream",
     "text": [
      "0\n"
     ]
    },
    {
     "data": {
      "text/plain": [
       "'AFDRQESAOWZXAMBFQWZOYBPGBPOZWIYBIDXAKBCKVEXPPXTDEWXPYFXPMAIDXQXGTGXIDIDHYXMKXSGPYFAITPXWGEAILPXBBXIWAIPIHZFNCWIPDHBVZAIVEDBSLGSVXAQYDVCQIDRXUQXAPOCHHMBLQXXPYFXPMAYGMABETVPZDIVEHUCPAIRGBVBXQZEQZYXYSZTBGLAMZRVUPEBXCUHZLGSVZSRLAXURWEXCKBCKXBXPPXTDSZDYBOWQZPLMCKDYCRBSIDSECKEWBFSXDIAGXPCFFBLVXAKZPZTMYBEWLGUVDEGERPVQCKBYLGFBOPLWIDOTHZZPTMLVBVCKVELHPSPFAZPESBYFWVLBQYWQBLHDLGSVVABXVUGROKYVHDDRANPGBFOBCWYBXCUCLGVANPPEBVKHAXWYYBDHXACEAOQWHKETXAMAKBCKPBXBBYDIYBIPUKEDAHKQIPLGFPYFXPMASTPZICHZIDSBZXGZBPPSLGZXSQDOXPPXQWEWLGBETVPZDIVEXAMIYNPZHEAMAVDYCRIUXAPOCHADLHCBQVECOIWEGEAIHZLGBEEMXPSADIBSPFLHKOQXQYVEDHYPYFAITPXWGEAIHMPZYEHFEDQVEVPFMWWCSBXAPSLGYBKPCBLGFAGQCWSBYFAMKCIDUHAUXPIRDGXBYBEWFNCWIPDHBVAVSBBPPXDVVQVIHCLHWIYBIDLGYBAXXQLGZXPFXGIUXAPOCHGRBXAMBKYPHUAFUCQIHZKWLVBVCKVEPZQLAXCDWCSBWQLWEWGPPETMPGBFQWZOCRTMZIKQEDDEVKVAPIEFYWVEPSPGBFQWZOFPBPPFOZVNEWSVVEXSYBPGVAEAVIOAPSLGCWEDKIHULGZSCWYZWCAMIDCKBYLGFBOPLWIDSXPSLGFPCISACDZISBMADEXGSBAEBSKPGPYFVKKCHAOIIGXBBFHDGEAFLHPGIDBYVIQGHDPYPMMAPCPTYFBYXPGLXILHXAQWMALGKCWCITVIXLVPQGXGKBYQYFTHVPEVYOKCMAPGXQXGTGXIYNKPEDGTPSLGHDRBBFDEFCSBCIXPYBBKOLBOEDSZCDYFDVCQIDSXPXDEGEGZYFWXTRAWMAHTCWYGMAFYCWXBZIPSPIHZYFHTCWYGXPLGHAEWAVETHDAHYNTOGLBFVEYXGVPEPTYFDVCQUKHLIXTMZIYKGRAHLGHAIPYSDRDYWQSBXPSVHDDCXGYXYSEWPIEGYBOBBYXFHULGZXCDMAXQLGHULGFBUCQIHZYGIAYFVSOKYBAMAHTMMWEWSZAIRGVSWIXBYZGUVIHCLHXQWNHZLGCRAMKHCECFDEULYFYESBPKQGBYOQKCSBAMMGOAWQWIHZYZLHCKTMYFPEEFHMEADGVAYVHDXBVIHCLHXQTILGCRVKKPRPMGXBPXGXEAAVPGLHESFPYFLGZXPFLXYFICBVCKLHZIXLTOGLIDLGHAHDPFDECDYFBLQXXPYFXPMAQXVEQHRIAHEADGFYZXLBBXIFHZIDXBHAEWYOIWSAYGIAQKYZGUXQBVCKOZIDPFKDRGSBLVUDVLRGYXXQVUPGLGFBOPLWIDSXXQLMFOIASAXUFCAZAMXBBKAXDYFPBPLGZXQGGPYFAZCBLGZICUTMYFKODRQGWHXFEDHULGFBOPLWIDGKMAHDGPIDPOAMWITMYFXPPXTDOALGYVCVELVAAVUKZXAZLGXPXQGVGPYFAZYGVWMAVAYFYPMAIDOTTMYFOAWQWIHZAMXQIDOAXGYBGEBYLXYFLVBADAYV'"
      ]
     },
     "execution_count": 37,
     "metadata": {},
     "output_type": "execute_result"
    }
   ],
   "source": [
    "break_playfair(assigned_full_text,20)"
   ]
  },
  {
   "cell_type": "markdown",
   "metadata": {},
   "source": [
    "# Second try"
   ]
  },
  {
   "cell_type": "markdown",
   "metadata": {},
   "source": [
    "# Second try scoring"
   ]
  },
  {
   "cell_type": "markdown",
   "metadata": {},
   "source": [
    "After the first try, I learned that this isn't working well. So, I tried to use quad gram statistic. The idea was from the website.\n",
    "\n",
    "This score uses english quadgram is also from the website.\n",
    "\n",
    "http://practicalcryptography.com/cryptanalysis/letter-frequencies-various-languages/english-letter-frequencies/"
   ]
  },
  {
   "cell_type": "code",
   "execution_count": 38,
   "metadata": {},
   "outputs": [],
   "source": [
    "quadgram = open(\"english_quadgrams.txt\", \"r\")\n",
    "quadgramtxt = quadgram.readlines()\n",
    "quadgramStatDict = {}\n",
    "for quadgramElement in quadgramtxt:\n",
    "    quadgramElement = quadgramElement.split(' ')\n",
    "    quadgramStatDict[quadgramElement[0]] = int(quadgramElement[1])\n"
   ]
  },
  {
   "cell_type": "code",
   "execution_count": 39,
   "metadata": {},
   "outputs": [],
   "source": [
    "#stat_dict = dictionary for ngram statistic\n",
    "def stat_score(stat_dict, text, n):\n",
    "    total_n = sum(stat_dict.values())\n",
    "    score = 0\n",
    "    probability = 0\n",
    "    n_gram = \"\"\n",
    "    for i in range(len(text) - n+1):\n",
    "        n_gram = text[i: i + n]\n",
    "        if n_gram in stat_dict:\n",
    "            probability = stat_dict[n_gram] / total_n\n",
    "        else:\n",
    "            probability = 0.001 / total_n\n",
    "        \n",
    "        log_probability = math.log10(probability)\n",
    "        score = score + log_probability\n",
    "    \n",
    "    return score"
   ]
  },
  {
   "cell_type": "code",
   "execution_count": 40,
   "metadata": {},
   "outputs": [],
   "source": [
    "q_Gram_test = \"welkfnwelkfosifjsodadlsfkmsdlkfew\"\n",
    "q_Gram_test_eng = \"HELLOHOWAREYOUDOINGIMFINETHANKYOU\"\n",
    "q_Gram_test_eng_200 = \"They argue. While the argument seems to be different the truth is it's always the same. Yes, the topic may be different or the circumstances, but when all said and done, it all came back to the same thing. They both knew it, but neither has the courage or strength to address the underlying issue. So they continue to argue.\"\n",
    "q_Gram_test_eng_700 = \"What were they eating? It didn't taste like anything she had ever eaten before and although she was famished, she didn't dare ask. She knew the answer would be one she didn't want to hear. The trees, therefore, must be such old and primitive techniques that they thought nothing of them, deeming them so inconsequential that even savages like us would know of them and not be suspicious. At that, they probably didn't have too much time after they detected us orbiting and intending to land. And if that were true, there could be only one place where their civilization was hidden. Out of another, I get a lovely view of the bay and a little private wharf belonging to the estate. There is a beautiful shaded lane that runs down there from the house. I always fancy I see people walking in these numerous paths and arbors, but John has cautioned me not to give way to fancy in the least.\"\n",
    "q_Gram_test_eng_2000 = \"The cab arrived late. The inside was in as bad of shape as the outside which was concerning, and it didn't appear that it had been cleaned in months. The green tree air-freshener hanging from the rearview mirror was either exhausted of its scent or not strong enough to overcome the other odors emitting from the cab. The correct decision, in this case, was to get the hell out of it and to call another cab, but she was late and didn't have a choice. She nervously peered over the edge. She understood in her mind that the view was supposed to be beautiful, but all she felt was fear. There had always been something about heights that disturbed her, and now she could feel the full force of this unease. She reluctantly crept a little closer with the encouragement of her friends as the fear continued to build. She couldn't help but feel that something horrible was about to happen. Greg understood that this situation would make Michael terribly uncomfortable. Michael simply had no idea what was about to come and even though Greg could prevent it from happening, he opted to let it happen. It was quite ironic, really. It was something Greg had said he would never wish upon anyone a million times, yet here he was knowingly letting it happen to one of his best friends. He rationalized that it would ultimately make Michael a better person and that no matter how uncomfortable, everyone should experience racism at least once in their lifetime.The amber droplet hung from the branch, reaching fullness and ready to drop. It waited. While many of the other droplets were satisfied to form as big as they could and release, this droplet had other plans. It wanted to be part of history. It wanted to be remembered long after all the other droplets had dissolved into history. So it waited for the perfect specimen to fly by to trap and capture that it hoped would eventually be discovered hundreds of years in the future.There were little things that she simply could not stand. The sound of someone tapping their nails on the table. A person chewing with their mouth open. Another human imposing themselves into her space. She couldn't stand any of these things, but none of them compared to the number one thing she couldn't stand which topped all of them combined.I recently discovered I could make fudge with just chocolate chips, sweetened condensed milk, vanilla extract, and a thick pot on slow heat. I tried it with dark chocolate chunks and I tried it with semi-sweet chocolate chips. It's better with both kinds. It comes out pretty bad with just the dark chocolate.\"\n",
    "q_Gram_test_eng_6000 = \"She was aware that things could go wrong. In fact, she had trained her entire life in anticipation that things would go wrong one day. She had quiet confidence as she started to see that this was the day that all her training would be worthwhile and useful. At this point, she had no idea just how wrong everything would go that day. It was the first day of the rest of her life. This wasn't the day she was actually born, but she knew that nothing would be the same from this day forward. Although this was a bit scary to her, it was also extremely freeing. Her past was no longer a burden or something that she needed to be concerned about and defend. She threw off the covers keeping her warm in bed, placed her feet over the side of the bed, slipped on her slipper, and took the first step of the first day of her new life. The trees, therefore, must be such old and primitive techniques that they thought nothing of them, deeming them so inconsequential that even savages like us would know of them and not be suspicious. At that, they probably didn't have too much time after they detected us orbiting and intending to land. And if that were true, there could be only one place where their civilization was hidden.A two-inch layer of freshly fallen snow covered the yard. Stacey peeked outside. To most, it would have been a beautiful sight worthy of taking a photo to put on Instagram. For Stacey, it meant something different. The first snow of the year brought back the witches as the fairies in the yard had to seek shelter to avoid the cold.The water rush down the wash and into the slot canyon below. Two hikers had started the day to sunny weather without a cloud in the sky, but they hadn't thought to check the weather north of the canyon. Huge thunderstorms had brought a deluge o rain and produced flash floods heading their way. The two hikers had no idea what was coming.There was a time when this wouldn't have bothered her. The fact that it did actually bother her bothered her even more. What had changed in her life that such a small thing could annoy her so much for the entire day? She knew it was ridiculous that she even took notice of it, yet she was still obsessing over it as she tried to fall asleep.Green vines attached to the trunk of the tree had wound themselves toward the top of the canopy. Ants used the vine as their private highway, avoiding all the creases and crags of the bark, to freely move at top speed from top to bottom or bottom to top depending on their current chore. At least this was the way it was supposed to be. Something had damaged the vine overnight halfway up the tree leaving a gap in the once pristine ant highway.Her eyebrows were a shade darker than her hair. They were thick and almost horizontal, emphasizing the depth of her eyes. She was rather handsome than beautiful. Her face was captivating by reason of a certain frankness of expression and a contradictory subtle play of features. Her manner was engaging.Do you really listen when you are talking with someone? I have a friend who listens in an unforgiving way. She actually takes every word you say as being something important and when you have a friend that listens like that, words take on a whole new meaning. He had three simple rules by which he lived. The first was to never eat blue food. There was nothing in nature that was edible that was blue. People often asked about blueberries, but everyone knows those are actually purple. He understood it was one of the stranger rules to live by, but it had served him well thus far in the 50 years of his life.I'm meant to be writing at this moment. What I mean is, I'm meant to be writing something else at this moment. The document I'm meant to be writing is, of course, open in another program on my computer and is patiently awaiting my attention. Yet here I am plonking down senseless sentiments in this paragraph because it's easier to do than to work on anything particularly meaningful. I am grateful for the distraction.It was going to rain. The weather forecast didn't say that, but the steel plate in his hip did. He had learned over the years to trust his hip over the weatherman. It was going to rain, so he better get outside and prepare.There wasn't a bird in the sky, but that was not what caught her attention. It was the clouds. The deep green that isn't the color of clouds, but came with these. She knew what was coming and she hoped she was prepared. It wasn't quite yet time to panic. There was still time to salvage the situation. At least that is what she was telling himself. The reality was that it was time to panic and there wasn't time to salvage the situation, but he continued to delude himself into believing there was.She sat in the darkened room waiting. It was now a standoff. He had the power to put her in the room, but not the power to make her repent. It wasn't fair and no matter how long she had to endure the darkness, she wouldn't change her attitude. At three years old, Sandy's stubborn personality had already bloomed into full view.The chair sat in the corner where it had been for over 25 years. The only difference was there was someone actually sitting in it. How long had it been since someone had done that? Ten years or more he imagined. Yet there was no denying the presence in the chair now.I'm heading back to Colorado tomorrow after being down in Santa Barbara over the weekend for the festival there. I will be making October plans once there and will try to arrange so I'm back here for the birthday if possible. I'll let you know as soon as I know the doctor's appointment schedule and my flight plans.It was easy to spot her. All you needed to do was look at her socks. They were never a matching pair. One would be green while the other would be blue. One would reach her knee while the other barely touched her ankle. Every other part of her was perfect, but never the socks. They were her micro act of rebellion.Her mom had warned her. She had been warned time and again, but she had refused to believe her. She had done everything right and she knew she would be rewarded for doing so with the promotion. So when the promotion was given to her main rival, it not only stung, it threw her belief system into disarray. It was her first big lesson in life, but not the last.There are different types of secrets. She had held onto plenty of them during her life, but this one was different. She found herself holding onto the worst type. It was the type of secret that could gnaw away at your insides if you didn't tell someone about it, but it could end up getting you killed if you did.I recollect that my first exploit in squirrel-shooting was in a grove of tall walnut-trees that shades one side of the valley. I had wandered into it at noontime, when all nature is peculiarly quiet, and was startled by the roar of my own gun, as it broke the Sabbath stillness around and was prolonged and reverberated by the angry echoes.She considered the birds to be her friends. She'd put out food for them each morning and then she'd watch as they came to the feeders to gorge themselves for the day. She wondered what they would do if something ever happened to her. Would they miss the meals she provided if she failed to put out the food one morningIt seemed like it should have been so simple. There was nothing inherently difficult with getting the project done. It was simple and straightforward enough that even a child should have been able to complete it on time, but that wasn't the case. The deadline had arrived and the project remained unfinished.The words hadn't flowed from his fingers for the past few weeks. He never imagined he'd find himself with writer's block, but here he sat with a blank screen in front of him. That blank screen taunting him day after day had started to play with his mind. He didn't understand why he couldn't even type a single word, just one to begin the process and build from there. And yet, he already knew that the eight hours he was prepared to sit in front of his computer today would end with the screen remaining blank.The young man wanted a role model. He looked long and hard in his youth, but that role model never materialized. His only choice was to embrace all the people in his life he didn't want to be like.\"\n",
    "\n"
   ]
  },
  {
   "cell_type": "code",
   "execution_count": 41,
   "metadata": {},
   "outputs": [],
   "source": [
    "q_Gram_test_eng_200_clean = clean_Message(q_Gram_test_eng_200)\n",
    "q_Gram_test_eng_700_clean = clean_Message(q_Gram_test_eng_700)\n",
    "q_Gram_test_eng_2000_clean = clean_Message(q_Gram_test_eng_2000)\n",
    "q_Gram_test_eng_6000_clean = clean_Message(q_Gram_test_eng_6000)\n"
   ]
  },
  {
   "cell_type": "code",
   "execution_count": 42,
   "metadata": {
    "scrolled": true
   },
   "outputs": [
    {
     "name": "stdout",
     "output_type": "stream",
     "text": [
      "33 33 2076\n"
     ]
    }
   ],
   "source": [
    "print(len(q_Gram_test), len(q_Gram_test_eng), len(q_Gram_test_eng_2000_clean))"
   ]
  },
  {
   "cell_type": "code",
   "execution_count": 43,
   "metadata": {
    "scrolled": false
   },
   "outputs": [
    {
     "name": "stdout",
     "output_type": "stream",
     "text": [
      "-378.7721118215302 -138.3056907820618 -8553.557262765808\n"
     ]
    }
   ],
   "source": [
    "print(stat_score(quadgramStatDict, q_Gram_test, 4),\n",
    "stat_score(quadgramStatDict, q_Gram_test_eng, 4),\n",
    "stat_score(quadgramStatDict, q_Gram_test_eng_2000_clean, 4))"
   ]
  },
  {
   "cell_type": "code",
   "execution_count": 44,
   "metadata": {},
   "outputs": [
    {
     "name": "stdout",
     "output_type": "stream",
     "text": [
      "-11.477942782470612 -4.191081538850357 -4.022584656878986 -4.0940495248585975 -4.120210627536516 -4.133845588602766\n"
     ]
    }
   ],
   "source": [
    "#This is to see average score per letter when the string is English, I found it's around 4.\n",
    "print(stat_score(quadgramStatDict, q_Gram_test, 4)/len(q_Gram_test),\n",
    "stat_score(quadgramStatDict, q_Gram_test_eng, 4)/ len(q_Gram_test_eng),\n",
    "stat_score(quadgramStatDict, q_Gram_test_eng_200_clean, 4)/len(q_Gram_test_eng_200_clean),\n",
    "stat_score(quadgramStatDict, q_Gram_test_eng_700_clean, 4)/len(q_Gram_test_eng_700_clean),\n",
    "stat_score(quadgramStatDict, q_Gram_test_eng_2000_clean, 4)/len(q_Gram_test_eng_2000_clean),\n",
    "stat_score(quadgramStatDict, q_Gram_test_eng_6000_clean, 4)/len(q_Gram_test_eng_6000_clean))\n",
    "\n"
   ]
  },
  {
   "cell_type": "markdown",
   "metadata": {},
   "source": [
    "The score with a proper English sentence is much higher than just random string. So, this seemed to be hopeful."
   ]
  },
  {
   "cell_type": "code",
   "execution_count": 45,
   "metadata": {},
   "outputs": [],
   "source": [
    "def break_playfair_QGram(ciphertext, itr):\n",
    "    \n",
    "    itr = 0\n",
    "    #Clean the cipher text\n",
    "    clean_cipher_text = clean_Message(ciphertext)\n",
    "    cor_score = 0\n",
    "    \n",
    "    #random key generator\n",
    "    key_array = random_key_generator()\n",
    "    #decrypt the message with the first key generated\n",
    "    ini_decrypted_messaged = Decryption(clean_cipher_text,key_array)\n",
    "    \n",
    "    #swap two letters on the initial key\n",
    "    key_array_prime = key_shuffling_(key_array)\n",
    "    #decrypt the message with the shuffled array\n",
    "    decrypted_messaged_prime = Decryption(clean_cipher_text,key_array_prime)\n",
    "\n",
    "    #find scores on both decrypted messages\n",
    "    score = stat_score(quadgramStatDict,ini_decrypted_messaged, 4)\n",
    "    score_prime = stat_score(quadgramStatDict,decrypted_messaged_prime, 4)\n",
    "    \n",
    "    text_len = len(ciphertext)\n",
    "    \n",
    "    while itr < itr:\n",
    "        dff = abs(score) - abs(score_prime)\n",
    "    \n",
    "        if dff >= 0:\n",
    "            key_array = key_array_prime\n",
    "            key_array_prime = key_shuffling_(key_array_prime)\n",
    "        else:\n",
    "            key_array_prime = key_shuffling_(key_array)\n",
    "    \n",
    "        ini_decrypted_messaged = Decryption(clean_cipher_text,key_array)\n",
    "        decrypted_messaged_prime = Decryption(clean_cipher_text,key_array_prime)\n",
    "        \n",
    "        score = stat_score(quadgramStatDict,ini_decrypted_messaged, 4)\n",
    "        score_prime = stat_score(quadgramStatDict,decrypted_messaged_prime, 4)\n",
    "        \n",
    "        \n",
    "        if score > score_prime:\n",
    "            cor_score = score\n",
    "        elif score < score_prime:\n",
    "            cor_score = score_prime\n",
    "        else:\n",
    "            key_array_prime = key_transpose_NW_SE(key_array)\n",
    "        \n",
    "#         print(cor_score ,score,score_prime)\n",
    "        itr +=1\n",
    "\n",
    "    \n",
    "    \n",
    "        \n",
    "    return ini_decrypted_messaged"
   ]
  },
  {
   "cell_type": "code",
   "execution_count": 46,
   "metadata": {
    "scrolled": true
   },
   "outputs": [
    {
     "data": {
      "text/plain": [
       "'VFYTHWBUKSUHBKVUKZKHETGBRPHKXVETLGOZPOOXVIURRUDZVAURCUURKBLGHZGUQWTSGLGKSRXQUSBGCUYLIPTDCHYLSPOHHOVXYLGSHMDWAUSGGKOBHBLBGVZFPFBFOZYATVVZLGBZLHOZNKASHXPGZHURCUURKBNAKBEQPBQUGLVIKAKEYLTROBHOHDWHQFRSFHPQFPBKNQUWIQHOVWHMPFBFHFTFZOKUAVWEPOOXOHURRUDZFHYEEMZKUQPMOXYEMUZFLGIROXVAVUSUGLAOURLSUVLTOZQMQUDXETVAPFWUVGCHQGCMOXTEPFUVKNCNLGWNHMUQDXLTOBOXVITXZUOSBHIQFZCUABGPYAZKPGKGPFBFFUHOUWRTGXWBKGYTKWGBVUMEAUETWEWVPFFUCGIQOBQHZOUXETGKOZRECYKZHQOTOZKBPOOXPROHTEGLETSGLXGVBMYHSGPFSOCUURKBIZQURMHMLGFZUHSQRPZUPFUHAFYFURRUKZVAPFEQPBQUGLVIOZMZAMQUSCBKUFYEMUDAOZNKASWYTXUIMCERAWAVCHYLHMPFEQSXURBUGLZFOSTXXGZHYAVIGKUPCUYLIPTDCHYLHXQUEBSDGVMCIVOSXZUAFZOZZUPFETPVUIPFFVWMAUFZCUBKXOLGAKRWURBRAGOHETVADWAUSGGKOBUFFZRPRUTVCMBLSATXXVETLGPFETZOHZPFUHOSGUDAOZNKASRTHOBKOPUPKAVFWVMOHMQVLTOBOXVIQUHGZOLEUAFZZKCNVABGIQDXGBVUKZKHMUDXQRYHGVVGGIFUGSIAXUVIZUGBVUKZKHSORPOSHKBCVABFVIUSETGBFURZBLYCZUPFAUGVQOKAPFHFAUFQUABKLGOXTEPFUVKNCNLGSUZUPFSOMRBULEQRFZKBVGGUFZZRZFPVBGCUGIXOMBAWYMOHVUKGCHVFTXGBLGTEBLMWKGPUNDKBEKPICUTEURFPTSTXOZKZKBPFXOUALOBLGRBVMWGUPOAYCUCDBVIVEFXOKBGBHZGUQWTSAMPVGVWQZUPFKGZNVUVGSLFZMRURETOPMTEMGVFHLECUTVVZLGSURUVGCHSQCUDTZTSYKBDCAUNAKBUCAUOHQRZUGSHMCUDCAUNAURPFMBVAUFOTKGBMAMNWFPVUVISRCQIQPICUTVVZLXXTSTDXQRLQRTBMPFMBSGYXYTYEZKFZURBFKGELGUSRYXVAGSHCETMETEVSKAPFUHLEKBHZPFKAPFUVWVMOHMNALYCUFBGXETBKBMDXXZVAFHYLTRFBXVOHFQNLBLSATXHZKDHMPFMUBKQHRELSVGLZCUEBFZVPMWTELVXOFZBKMDYCZKXVHMFQTXOXDXCUIQIAHXRZAGFUWBKGOHBLSATXHZOLPFMUGIPVQGMDOHRUUGRZUFGBTXRISOCUPFUHOSRGCURMOBOXTXQRGRNWFPLGPFMBKGOSVGLECUPGZHURCUURKBZHVIHPRBBMRZAGUCUHGPHOOKHMLGOHMBVAEFVXBUNALYHYFQNLHZOBOXHKLGOSBTTRFZLTEZTLTRSRHZUWGBPFUVKNCNLGSUHZPMATLYBUIWSLBHBKOHOPZOYESORPPFUHMWBGCUBHUIPFQRVWDXCUXGYTMWCAVSGVKAPFUVKNCNLGWXKBKGBGLGNKBKXVDXCUURRUDZYCPFWBLUOEFUUFLXUHBHPFURHZCQBGCUBHNABAKBFUCUUPKBLGWNDXCUYCZKXVHMBKHZLGYCGUETCHTERGCULTOFYWWB'"
      ]
     },
     "execution_count": 46,
     "metadata": {},
     "output_type": "execute_result"
    }
   ],
   "source": [
    "break_playfair_QGram(assigned_full_text,100)"
   ]
  },
  {
   "cell_type": "code",
   "execution_count": 47,
   "metadata": {},
   "outputs": [],
   "source": [
    "def break_playfair_QGram_Ave_Score(ciphertext, iteration):\n",
    "    \n",
    "    itr = 0\n",
    "    #Clean the cipher text\n",
    "    clean_cipher_text = clean_Message(ciphertext)\n",
    "    cor_score = 0\n",
    "    \n",
    "    #random key generator\n",
    "    key_array = random_key_generator()\n",
    "    #decrypt the message with the first key generated\n",
    "    ini_decrypted_messaged = Decryption(clean_cipher_text,key_array)\n",
    "    \n",
    "    #swap two letters on the initial key\n",
    "    key_array_prime = key_shuffling_(key_array)\n",
    "    #decrypt the message with the shuffled array\n",
    "    decrypted_messaged_prime = Decryption(clean_cipher_text,key_array_prime)\n",
    "\n",
    "    #find scores on both decrypted messages\n",
    "    score = stat_score(quadgramStatDict,ini_decrypted_messaged, 4)\n",
    "    score_prime = stat_score(quadgramStatDict,decrypted_messaged_prime, 4)\n",
    "    \n",
    "    text_len = len(ciphertext)\n",
    "    \n",
    "    avg_score = score / text_len\n",
    "    #Because English sentence would give me average score of -4ish, so I tried to loop till I found \n",
    "    #somewhere close to 4 but this does not seem to work either. This pretty much go into infinite loop.\n",
    "    #After couple trials, 7.5 is the smallest number it can go but I gave it some room.\n",
    "    while avg_score <= -7.7:\n",
    "        key_array = random_key_generator()\n",
    "        ini_decrypted_messaged = Decryption(clean_cipher_text,key_array)\n",
    "        score = stat_score(quadgramStatDict,ini_decrypted_messaged, 4)\n",
    "        avg_score = score / text_len\n",
    "        print(\"avescore:{} \".format(avg_score))\n",
    "        \n",
    "    while itr < iteration:    \n",
    "        dff = abs(score) - abs(score_prime)\n",
    "    \n",
    "        if dff >= 0:\n",
    "            key_array = key_array_prime\n",
    "            key_array_prime = key_shuffling_(key_array_prime)\n",
    "        else:\n",
    "            key_array_prime = key_shuffling_(key_array)\n",
    "    \n",
    "        ini_decrypted_messaged = Decryption(clean_cipher_text,key_array)\n",
    "        decrypted_messaged_prime = Decryption(clean_cipher_text,key_array_prime)\n",
    "        \n",
    "        score = stat_score(quadgramStatDict,ini_decrypted_messaged, 4)\n",
    "        score_prime = stat_score(quadgramStatDict,decrypted_messaged_prime, 4)\n",
    "        \n",
    "        \n",
    "        if score > score_prime:\n",
    "            cor_score = score\n",
    "        elif score < score_prime:\n",
    "            cor_score = score_prime\n",
    "        else:\n",
    "            key_array_prime = key_transpose_NW_SE(key_array)\n",
    "        \n",
    "        print(cor_score ,score,score_prime)\n",
    "        print(avg_score)\n",
    "        itr +=1\n",
    "\n",
    "    \n",
    "    \n",
    "        \n",
    "    return ini_decrypted_messaged"
   ]
  },
  {
   "cell_type": "code",
   "execution_count": 48,
   "metadata": {
    "scrolled": true
   },
   "outputs": [
    {
     "name": "stdout",
     "output_type": "stream",
     "text": [
      "avescore:-8.261597620797213 \n",
      "avescore:-7.955867349406054 \n",
      "avescore:-8.85626809848646 \n",
      "avescore:-8.33953806295155 \n",
      "avescore:-8.18214944559379 \n",
      "avescore:-7.889923657862013 \n",
      "avescore:-8.737590859357164 \n",
      "avescore:-7.999428778341057 \n",
      "avescore:-7.901647390629707 \n",
      "avescore:-8.076320381148395 \n",
      "avescore:-8.039311340779946 \n",
      "avescore:-8.003369393129354 \n",
      "avescore:-8.858307886390318 \n",
      "avescore:-7.953607870457327 \n",
      "avescore:-8.495572063509274 \n",
      "avescore:-7.963705546109712 \n",
      "avescore:-7.869906356922857 \n",
      "avescore:-8.06092244487147 \n",
      "avescore:-8.528040898581233 \n",
      "avescore:-8.29025928642641 \n",
      "avescore:-7.814565269413196 \n",
      "avescore:-8.356868807044588 \n",
      "avescore:-8.487319122666376 \n",
      "avescore:-8.022310730033144 \n",
      "avescore:-7.640240761255754 \n",
      "-13645.469999602776 -13645.469999602776 -13713.062043136808\n",
      "-7.640240761255754\n",
      "-13645.469999602776 -13645.469999602776 -13959.979472521105\n",
      "-7.640240761255754\n",
      "-13645.469999602776 -13645.469999602776 -13871.124353716159\n",
      "-7.640240761255754\n",
      "-13645.469999602776 -13645.469999602776 -13704.887689748073\n",
      "-7.640240761255754\n",
      "-13645.469999602776 -13645.469999602776 -13683.7928913163\n",
      "-7.640240761255754\n",
      "-13645.469999602776 -13645.469999602776 -13843.82762114546\n",
      "-7.640240761255754\n",
      "-13645.469999602776 -13645.469999602776 -13872.305869212161\n",
      "-7.640240761255754\n",
      "-13645.469999602776 -13645.469999602776 -14385.286733121853\n",
      "-7.640240761255754\n",
      "-13645.469999602776 -13645.469999602776 -13879.672948646967\n",
      "-7.640240761255754\n",
      "-13645.469999602776 -13645.469999602776 -13814.323406187286\n",
      "-7.640240761255754\n",
      "-13639.23484079002 -13645.469999602776 -13639.23484079002\n",
      "-7.640240761255754\n",
      "-13639.23484079002 -13639.23484079002 -13792.387229277685\n",
      "-7.640240761255754\n",
      "-13639.23484079002 -13639.23484079002 -13696.894440057675\n",
      "-7.640240761255754\n",
      "-13639.23484079002 -13639.23484079002 -13706.513592660223\n",
      "-7.640240761255754\n",
      "-13639.23484079002 -13639.23484079002 -14059.023328331994\n",
      "-7.640240761255754\n",
      "-13639.23484079002 -13639.23484079002 -13800.485652203684\n",
      "-7.640240761255754\n",
      "-13639.23484079002 -13607.545993342672 -13607.545993342672\n",
      "-7.640240761255754\n",
      "-14122.014429667366 -14122.014429667366 -14228.783224524735\n",
      "-7.640240761255754\n",
      "-14098.204599063554 -14122.014429667366 -14098.204599063554\n",
      "-7.640240761255754\n",
      "-14098.204599063554 -14098.204599063554 -14196.078126890869\n",
      "-7.640240761255754\n",
      "-14061.837512139595 -14098.204599063554 -14061.837512139595\n",
      "-7.640240761255754\n",
      "-14061.837512139595 -14061.837512139595 -14210.257969304805\n",
      "-7.640240761255754\n",
      "-13982.714205933706 -14061.837512139595 -13982.714205933706\n",
      "-7.640240761255754\n",
      "-13982.714205933706 -13869.215886823813 -13869.215886823813\n",
      "-7.640240761255754\n",
      "-13982.714205933706 -14061.837512139595 -14061.837512139595\n",
      "-7.640240761255754\n",
      "-13972.553486026069 -13982.714205933706 -13972.553486026069\n",
      "-7.640240761255754\n",
      "-13670.095796941314 -13972.553486026069 -13670.095796941314\n",
      "-7.640240761255754\n",
      "-13670.095796941314 -13670.095796941314 -13969.666013085362\n",
      "-7.640240761255754\n",
      "-13661.407969069465 -13670.095796941314 -13661.407969069465\n",
      "-7.640240761255754\n",
      "-13505.771449402062 -13661.407969069465 -13505.771449402062\n",
      "-7.640240761255754\n",
      "-13505.771449402062 -13505.29527391781 -13505.29527391781\n",
      "-7.640240761255754\n",
      "-14190.060867192271 -14190.060867192271 -14428.134156555467\n",
      "-7.640240761255754\n",
      "-14190.060867192271 -14190.060867192271 -14536.205998791353\n",
      "-7.640240761255754\n",
      "-14190.060867192271 -14190.060867192271 -14662.044684792465\n",
      "-7.640240761255754\n",
      "-14190.060867192271 -14190.060867192271 -14211.809956589377\n",
      "-7.640240761255754\n",
      "-14190.060867192271 -14190.060867192271 -14499.113222819737\n",
      "-7.640240761255754\n",
      "-14190.060867192271 -14190.060867192271 -14450.193336695316\n",
      "-7.640240761255754\n",
      "-13505.29527391781 -14190.060867192271 -13505.29527391781\n",
      "-7.640240761255754\n",
      "-13505.29527391781 -13505.29527391781 -13598.173413906892\n",
      "-7.640240761255754\n",
      "-13050.710705624102 -13505.29527391781 -13050.710705624102\n",
      "-7.640240761255754\n",
      "-13050.710705624102 -13050.710705624102 -13733.633368945637\n",
      "-7.640240761255754\n",
      "-12855.223856266115 -13050.710705624102 -12855.223856266115\n",
      "-7.640240761255754\n",
      "-12734.145334280965 -12855.223856266115 -12734.145334280965\n",
      "-7.640240761255754\n",
      "-12734.145334280965 -12734.145334280965 -12956.471402822144\n",
      "-7.640240761255754\n",
      "-12734.145334280965 -12734.145334280965 -12956.471402822144\n",
      "-7.640240761255754\n",
      "-12718.290304539294 -12734.145334280965 -12718.290304539294\n",
      "-7.640240761255754\n",
      "-12718.290304539294 -12718.290304539294 -13184.406135232213\n",
      "-7.640240761255754\n",
      "-12718.290304539294 -12718.290304539294 -13017.2240548285\n",
      "-7.640240761255754\n",
      "-12718.290304539294 -12718.290304539294 -13297.03693286621\n",
      "-7.640240761255754\n",
      "-12718.290304539294 -12718.290304539294 -13192.729718219876\n",
      "-7.640240761255754\n",
      "-12718.290304539294 -12718.290304539294 -13032.163274293558\n",
      "-7.640240761255754\n",
      "-12718.290304539294 -12718.290304539294 -12885.975449966789\n",
      "-7.640240761255754\n",
      "-12718.290304539294 -12718.290304539294 -13285.141484859349\n",
      "-7.640240761255754\n",
      "-12718.290304539294 -12718.290304539294 -13060.243238457357\n",
      "-7.640240761255754\n",
      "-12718.290304539294 -12718.290304539294 -13114.083713503715\n",
      "-7.640240761255754\n",
      "-12718.290304539294 -12718.290304539294 -12827.51438517635\n",
      "-7.640240761255754\n",
      "-12718.290304539294 -12718.290304539294 -12906.795243536159\n",
      "-7.640240761255754\n",
      "-12718.290304539294 -12718.290304539294 -13246.68781223228\n",
      "-7.640240761255754\n",
      "-12718.290304539294 -12718.290304539294 -12871.801416015358\n",
      "-7.640240761255754\n",
      "-12718.290304539294 -12718.290304539294 -13186.584294094546\n",
      "-7.640240761255754\n",
      "-12718.290304539294 -12718.290304539294 -12793.154852846434\n",
      "-7.640240761255754\n",
      "-12718.290304539294 -12718.290304539294 -13814.742214034612\n",
      "-7.640240761255754\n",
      "-12718.290304539294 -12718.290304539294 -12799.296097938777\n",
      "-7.640240761255754\n",
      "-12718.290304539294 -12718.290304539294 -13192.729718219876\n",
      "-7.640240761255754\n",
      "-12718.290304539294 -12718.290304539294 -13024.640143480341\n",
      "-7.640240761255754\n",
      "-12718.290304539294 -12718.290304539294 -13010.601000112598\n",
      "-7.640240761255754\n",
      "-12718.290304539294 -12718.290304539294 -12839.745572551969\n",
      "-7.640240761255754\n",
      "-12718.290304539294 -12718.290304539294 -13192.729718219876\n",
      "-7.640240761255754\n",
      "-12718.290304539294 -12718.290304539294 -13186.584294094546\n",
      "-7.640240761255754\n",
      "-12718.290304539294 -12718.290304539294 -12888.815483609696\n",
      "-7.640240761255754\n",
      "-12718.290304539294 -12718.290304539294 -13314.33056601835\n",
      "-7.640240761255754\n",
      "-12712.053834689888 -12718.290304539294 -12712.053834689888\n",
      "-7.640240761255754\n",
      "-12712.053834689888 -12712.053834689888 -13061.580081609252\n",
      "-7.640240761255754\n",
      "-12712.053834689888 -12712.053834689888 -12788.983932624038\n",
      "-7.640240761255754\n",
      "-12712.053834689888 -12712.053834689888 -13301.048362952897\n",
      "-7.640240761255754\n",
      "-12712.053834689888 -12712.053834689888 -13925.97248479351\n",
      "-7.640240761255754\n",
      "-12712.053834689888 -12712.053834689888 -13681.565776468688\n",
      "-7.640240761255754\n",
      "-12712.053834689888 -12712.053834689888 -13091.083226134782\n",
      "-7.640240761255754\n",
      "-12712.053834689888 -12712.053834689888 -13196.424749992133\n",
      "-7.640240761255754\n",
      "-12712.053834689888 -12712.053834689888 -13120.201030422131\n",
      "-7.640240761255754\n",
      "-12712.053834689888 -12712.053834689888 -12966.92192800065\n",
      "-7.640240761255754\n",
      "-12712.053834689888 -12712.053834689888 -12999.180948619407\n",
      "-7.640240761255754\n",
      "-12712.053834689888 -12712.053834689888 -12788.983932624038\n",
      "-7.640240761255754\n",
      "-12712.053834689888 -12712.053834689888 -13785.147813539497\n",
      "-7.640240761255754\n",
      "-12712.053834689888 -12712.053834689888 -12870.095865397718\n",
      "-7.640240761255754\n",
      "-12712.053834689888 -12712.053834689888 -12878.934764373991\n",
      "-7.640240761255754\n",
      "-12681.663534029522 -12712.053834689888 -12681.663534029522\n",
      "-7.640240761255754\n",
      "-12681.663534029522 -12681.663534029522 -12845.402796583347\n",
      "-7.640240761255754\n",
      "-12681.663534029522 -12681.663534029522 -12709.041600492536\n",
      "-7.640240761255754\n",
      "-12681.663534029522 -12681.663534029522 -13105.104344681573\n",
      "-7.640240761255754\n",
      "-12681.663534029522 -12681.663534029522 -13277.977739864778\n",
      "-7.640240761255754\n",
      "-12681.663534029522 -12719.543380103529 -12719.543380103529\n",
      "-7.640240761255754\n",
      "-13161.947642215711 -13161.947642215711 -13745.095684941885\n",
      "-7.640240761255754\n",
      "-13161.947642215711 -13161.947642215711 -13236.092174555093\n",
      "-7.640240761255754\n",
      "-13110.414279775468 -13161.947642215711 -13110.414279775468\n",
      "-7.640240761255754\n",
      "-13110.414279775468 -13110.414279775468 -13502.965374576324\n",
      "-7.640240761255754\n"
     ]
    },
    {
     "name": "stdout",
     "output_type": "stream",
     "text": [
      "-13110.414279775468 -13110.414279775468 -13552.079543214037\n",
      "-7.640240761255754\n",
      "-13110.414279775468 -13110.414279775468 -13139.193472248724\n",
      "-7.640240761255754\n",
      "-13110.414279775468 -13110.414279775468 -13723.440154977643\n",
      "-7.640240761255754\n",
      "-13110.414279775468 -13110.414279775468 -13234.055842268426\n",
      "-7.640240761255754\n"
     ]
    },
    {
     "data": {
      "text/plain": [
       "'INYXBCGEPHZIVETRVWUARKOIXLAUSKRKBOTLLNFSSYILLIYZPOILIRILEVBOPLMICGOKOBVMXMFWEZIOIRMGYRYOHAMGXWZNNZKSMGLBAFSDKEBLVMZLENHCPTTNOAHETLOWYICWBOZTWMTLZXHFVFKLLPILIRILEVTAEVZKCRIAOBSYFOBDMGWAZLNZXGCBLWMXLECZAOVEZUSIPINZTOAFOAHEELIKLTIDOPTMLNFSZNILLIYZLERGZBWVAIVQFSRGKUTNBODQFSPOTRZEOBWNILHMRTNKTLBFIAGARKPOOAISTPHAXOBKFSKROARTXZXSBOUSAFAIGANKZLFSSYAEZGSLNEPINTIRCELKOWWVKLMVOAHEITNZSIAWFURHMVYXVDOITRBZKERKTMOTOAITOSPIZLEFLTRARKVMTLMPXVVWFENHTLEVLNFSLXZNKROBRKBLEUPTFMLUBLOALSIRILEVYAIAKHAFBONTZIBIXLZGOAZIBQBNILLIVWPOOAZKCRIAOBSYTLVCOQIAFGVETIRGKUOCTLZXHFZWAEXAKBPMOGOPHAMGAFOAZKFXILGEOBTNSLAEUFLPOWSYVMALIRMGYRYOHAMGVFIAZFHOPTKBYSSLVGEKNTTLZGOARKRPXAOANIGBKENTIRVESFBOOFWTILKMORZNRKPOSDKEBLVMZLTINTXLLIYIBKCHFHAESKRKBOOARKLTPLOAZISLMIOCTLZXHFAWNZVENLALFOINOTWGAFSCNKZLFSSYIAMYLTBMEKNTWVXSPOIOPIGAOITRVWUAKUGAWKLUPTTPESITLBYHARSYZGOITRVWUALSXLSLAUEIPOHESYEZRKOIITYWCHVXZGOAKEPTCKFOOAELKEWLEKVEBOFSKROARTXZXSBOZEZGOALSHKGEBMWKNTEVTPMINTWYTNRPIOIRESSFMFOGONZNTRMVHAINAEOIBOKRCHBGMVLANGEVDBRYIRKRILAOOKAETLVWEVOASFEKLHCHLMETBGMILNWOIRHBETYSZMSFEVOIPLMICGOKOQRPPTGCZGOAMVUPTRTPMHNTHKILRKNLNVZBPTLEBMIRYICWBOZELITPHABIIROYYDUHEVBHKETAEVRIKEZNWKZGLBAFIRBHKETAILOAMFPOTINHMVFMOQSUAOTRSYXMCIPIRYIRYICWEUEAKOGAWKLFAWFMOAMFBLLQYXRGWVNTILHEMVMBMIXMLQPOLBAHRKBZKRTGFOOAZIBMEVPLOAFOOARTOTWGAFTAGMIREHFURKVEFMGAVGPOLEMGWAEHSKZNWLTQCHFHAEPLVSAFOAKUVEEFMPHMTPCTIRZFNTPRBGKRYBSFNTVEACVXWVSKAFWLAEFSGAIRPIYHVFYWORITRHMVZNCHFHAEPLHLOAKUESRPXOACZNLIIMYWTIOIAEQDLSIROAZISLMLIRKHZLFSAEWKLMSUAOBOOAMFMVSLTPBMIRKLLPILIRILEVLPSYUNMKFMYWORRIZILKNZWSAFBOZNMFPOZMKSGETAGMULWLTQPLZLFSAUBOSLEYWANTNKYLKNWAXMPLSIOIOARTXZXSBOZEPLVQKYGMGETFMHNEVEZNNLLTRGLSXLOAZIBGIOIRNEXAOAWKTOGAIRUFYXBGTKTGPTFOOARTXZXSBOFIEVMVIOBOZXVESKGAIRILLIYZVXOARHMUCLITTIEUZINEOAILPLCIIOIRNETAECEVITIRALEVBOUSGAIRVXWVSKAFVEPLBOVXMIRKHAKRMLIRNKZRWZRH'"
      ]
     },
     "execution_count": 48,
     "metadata": {},
     "output_type": "execute_result"
    }
   ],
   "source": [
    "# iteration can be changed to 100 --> 2000\n",
    "break_playfair_QGram_Ave_Score(assigned_full_text,100)"
   ]
  },
  {
   "cell_type": "code",
   "execution_count": 49,
   "metadata": {
    "scrolled": false
   },
   "outputs": [
    {
     "data": {
      "text/plain": [
       "'TDFIBMDWZREWSUTVAEGSNHLYKQSGTLNHTSYEQNGORIYUUYPVCWYULPYUUSTSKGUOOZQYSTSCBLOIEDYLLPSAICNWDMSAKUCDDCLTSASYBZXFAPYSSCCECUZXYHYTKOPFYEBIIHGHTSVWYBYEEFZWLGOQGKYULPYUUSMTUSEXHCSOSTRIYNXSSAUMCEDCFAMBKYLBVYXNOKSUSWXUHWDCGYBZKOPFYVLKEYFSWCOHQNGOCDYUUYPVVYQIHSEAOSBCGOQIPSYTTSDRGOCWTVDESTUIYUPXVTZHYEYMSOZMNHCWKOUXHYDMMSAZGOHNKOVTFEAVTSVUBZOSZMZHCEGORILNCVYRUCHWTYLPAWQOBIEAOQCSKOPFUWDCXUMUUGQXCSFIFULYTVSHAPNHOHYGKOUWRCHWCENBEYNPNHSCYEEBKZAEBNNEYEUSQNGOQKCDHNSTNHYSVOYHSZNKYSKORYLPYUUSPMSOXABZTSTYEWMKKQCVKOEWIKAIYUUYAECWKOEXHCSOSTRIYETOYOSOYZSUWUQIPSWTYEEFZWAULNPHZABEQTWCDMSABZKOEXDBYUDWSTYTYRLNGUGKBIRISCMQLPSAICNWDMSALGSOQEWRYHZAIRYRIGPATYYECVKONHCAPHKODTABAPTYLPSUOGTSNYXBYUKSAHCDNHCWXFAPYSSCCEWUTYKQUYIHAZXZWZLNTLNHTSKONHEYKGKOEWYRUOWTYEEFZWMUDCSUNQMQYNTDYGALBZHLZHCEGORISOGBEYYXPATYEAAVCWYLHWZMLYTVAEGSPSZMLONKYHHYRHUWSYNRPNRICVLYTVAEGSRYKQYRSGWLCWPFRIEDNHLYUWMEXZZKCVKOAPYHXGYNKOYVAPYKPASUTSGOHNKOVTFEAVTSDECVKORYAXDWYXLOTYUSHYUOTYEMYTCAYLLPRHOGZSQTBTCDTVCSDMTDLNLYTSHNXZBACSQMNCUSSXCILPHNYUOKQYLNYEAEUSKOOGPACXXZKBCYBAUOQNIBLPFYCYIRBQOGUSLYKGUOOZQYYOCAYHZOCVKOCSNFTVHYXPTYAXYUNHNQZLHSYHVYYXLPIHGHTSDEUYHYDMMKLPWNMVKDUSYFAPMTUSPLAPCDLOCVSYBZLPYFAPMTYUKOZSCWWUNECSSZYOUVOKTVRIBLAYHWCILPIHGHVONLYQZMLONOMUSZKOZSYSIPFIQIEATYYUPFCSXYUOBLIPCWSYMDNHSHHNYWYNKOEWYXUSKGKOYNKOVTYGALBZMTASLPFPUGNHSUSZZMIGCWVYSAUMFPTLCDYKORXZWZLNKGFRBZKOPSSUNBEBPXHYOBLPQETYACBAHNKHOGTYSUOMZKEATLBZYKLNGOZMLPHWNRLGMEAHUWQXCSCDXZWZLNKGXCKOPSRHCAMSOMCDUYOUMEWULYLNRDRYLPKOEWYRBKLPXACEGOLNLOKBUVOKTSKOZSCSYRHYYXLPOQGKYULPYUUSGKRINZSKSZMEAHPLEWQODCXTBZTSCDZSCWBQLTDWMTASKNYKORKGCEGOSGTSYRCLUMTYZHMGHZUMBLKGXULYKOVTFEAVTSDEKGBCTZASDWGRXPUCSUCDNQEYQIRYKQKOEWBAYLLPUCPHKOLOGYZMLPGUFIBANTYWYHYNKOVTFEAVTSDOUSCSYLTSEFSUTLZMLPYUUYPVZKKOQXDXXHUWWUVOEWUCKOYUKGAYYLLPUCMTWAUSUWLPMQUSTSVUZMLPZKEATLBZSUKGTSZKUONHDMHNBKLPZHTUUAQX'"
      ]
     },
     "execution_count": 49,
     "metadata": {},
     "output_type": "execute_result"
    }
   ],
   "source": [
    "# iteration can be changed to 100 --> 2000\n",
    "\n",
    "break_playfair_QGram(assigned_full_text,100)"
   ]
  },
  {
   "cell_type": "markdown",
   "metadata": {},
   "source": [
    "After many trials, I learned the score does not make progress once it reach at somepoint."
   ]
  },
  {
   "cell_type": "markdown",
   "metadata": {},
   "source": [
    "# Third Try"
   ]
  },
  {
   "cell_type": "markdown",
   "metadata": {},
   "source": [
    "After the second try fails, I did some research. And I found this paper, Breaking Short Playfair Ciphers with the Simulated Annealing Algorithms by Michael J. Cowan. And the paper talks about reaching the local maximum which I believe that was the issue on the second try."
   ]
  },
  {
   "cell_type": "markdown",
   "metadata": {},
   "source": [
    "This idea is also from the website that I used for the second try.\n",
    "http://practicalcryptography.com/cryptanalysis/stochastic-searching/cryptanalysis-playfair/"
   ]
  },
  {
   "cell_type": "markdown",
   "metadata": {},
   "source": [
    "I tested all functions in the C code: scoring, shuffling keys and decryping the message. I originally used switching two letters but I found I should use more than just switching two letters. This is where I learned this."
   ]
  },
  {
   "cell_type": "markdown",
   "metadata": {},
   "source": [
    "The website also contains C code which it solves the problem in much faster speed. I tried 10000 iteration in playfair_crack_T2 which took more than couple hours so I stopped in the middle. The scores keep decreasing."
   ]
  },
  {
   "cell_type": "markdown",
   "metadata": {},
   "source": [
    "# Third try scoring"
   ]
  },
  {
   "cell_type": "code",
   "execution_count": 50,
   "metadata": {},
   "outputs": [],
   "source": [
    "quad_stat = open(\"quadramStat.txt\", \"r\")"
   ]
  },
  {
   "cell_type": "code",
   "execution_count": 51,
   "metadata": {},
   "outputs": [],
   "source": [
    "quad_stat_line = quad_stat.readlines()"
   ]
  },
  {
   "cell_type": "code",
   "execution_count": 52,
   "metadata": {},
   "outputs": [],
   "source": [
    "for i in range(len(quad_stat_line)):\n",
    "    quad_stat_line[i] = quad_stat_line[i].replace(\",\", \"\")\n",
    "    quad_stat_line[i] = quad_stat_line[i].replace(\"\\n\", \"\")\n",
    "    quad_stat_line[i] = float(quad_stat_line[i])"
   ]
  },
  {
   "cell_type": "code",
   "execution_count": 59,
   "metadata": {},
   "outputs": [],
   "source": [
    "#Input: message, while iteration, TempStart, TempEnd, for loop iteration\n",
    "#Output\n",
    "def playfair_crack_T2(emsg, while_iteration,TempStart, TempEnd,for_iteration):\n",
    "#     key = random_key_generator()\n",
    "    \n",
    "    best_key = np.array([['A', 'B','C','D','E'],\n",
    "                    ['F','G','H','I','K'],\n",
    "                    ['L','M','N','O','P'],\n",
    "                    ['Q','R','S','T','U'],\n",
    "                    ['V','W','X','Y','Z']])\n",
    "    \n",
    "    max_score = -99999999999999999999999999999\n",
    "    counter = 0\n",
    "    current_score = 0\n",
    "    current_msg = emsg\n",
    "    rand_max = 2147483647\n",
    "    max_key = best_key\n",
    "    test_key = []\n",
    "    score = 0\n",
    "    step = 0.2\n",
    "    Temp = TempStart\n",
    "    import random\n",
    "    import time\n",
    "    random.seed(int(time.time()))\n",
    "    \n",
    "    #Where while_iteration is applied\n",
    "    while counter <= while_iteration:\n",
    "        print(\"iteration in\")\n",
    "        deciphered_msg = Decryption(current_msg, best_key)\n",
    "        max_score = score_text_Qgram(deciphered_msg)\n",
    "        \n",
    "        best_score = max_score\n",
    "        #Where Temp_Start and Temp_end are applied\n",
    "        for j in np.arange(Temp, TempEnd, -step):\n",
    "            #Where for_iteration is applied\n",
    "            for i in range(0,for_iteration,1):\n",
    "                test_key = key_shuffling_(best_key)\n",
    "                deciphered_msg = Decryption(current_msg, test_key)\n",
    "                score = score_text_Qgram(deciphered_msg)\n",
    "                dF = score - max_score\n",
    "                if dF >= 0:\n",
    "                    max_score = score\n",
    "                    max_key = test_key\n",
    "                elif j > 0:\n",
    "                    prob = e**(dF/j)\n",
    "                    random.seed(int(time.time()))\n",
    "                    if(prob > 1.0*random.randint(0,rand_max)/rand_max):\n",
    "                            max_score = score\n",
    "                            max_key = test_key\n",
    "                if max_score > best_score:\n",
    "                    best_score = max_score\n",
    "                    best_key = max_key\n",
    "                    print(\"j: {}, iteratio: {}, best_score: {}\".format(j,i,best_score))\n",
    "#                 if i % 50 == 0:\n",
    "#                     print(\"Your current iteration is {}, note: only shows every 50 iteration\".format(i))\n",
    "#                     print(\"Your current j is {}, note: only shows every 50 iteration\".format(j))\n",
    "#                     print(\"Your current score is {}, note: only shows every 50 iteration\".format(score))\n",
    "#             print(i,j,score)\n",
    "                        \n",
    "    \n",
    "        current_score = best_score\n",
    "        current_msg = deciphered_msg\n",
    "        \n",
    "        if current_score > max_score:\n",
    "            max_score = current_score\n",
    "            print(\"best score so far:{}\\n\", current_score)\n",
    "            print(\"key: {} \\n\", best_key)\n",
    "            current_msg = Decryption(current_msg, best_key)\n",
    "        counter = counter + 1\n",
    "        \n",
    "        current_msg = current_msg\n",
    "    \n",
    "    return current_msg"
   ]
  },
  {
   "cell_type": "code",
   "execution_count": 60,
   "metadata": {
    "scrolled": true
   },
   "outputs": [
    {
     "name": "stdout",
     "output_type": "stream",
     "text": [
      "iteration in\n",
      "j: 20.0, iteratio: 2, best_score: -11932.75842397206\n",
      "j: 20.0, iteratio: 19, best_score: -11871.259601435246\n",
      "j: 20.0, iteratio: 48, best_score: -11842.259055065719\n",
      "j: 20.0, iteratio: 60, best_score: -11809.43295020307\n",
      "j: 20.0, iteratio: 77, best_score: -11792.218064637616\n",
      "j: 20.0, iteratio: 78, best_score: -11727.25838970904\n",
      "j: 19.8, iteratio: 58, best_score: -11676.478780885547\n",
      "j: 19.6, iteratio: 41, best_score: -11651.377724077027\n",
      "j: 19.6, iteratio: 99, best_score: -11597.506607495552\n",
      "j: 19.400000000000002, iteratio: 51, best_score: -11551.968872134941\n",
      "j: 19.400000000000002, iteratio: 57, best_score: -11500.311667298487\n",
      "j: 19.200000000000003, iteratio: 26, best_score: -11473.479202501696\n",
      "j: 19.200000000000003, iteratio: 32, best_score: -11348.046247789533\n",
      "iteration in\n",
      "j: 20.0, iteratio: 0, best_score: -11946.032496868638\n",
      "j: 20.0, iteratio: 12, best_score: -11927.000063294143\n",
      "j: 20.0, iteratio: 21, best_score: -11898.401971852238\n",
      "j: 20.0, iteratio: 22, best_score: -11722.808901688702\n",
      "j: 20.0, iteratio: 23, best_score: -11672.77256093799\n",
      "j: 20.0, iteratio: 29, best_score: -11670.871406298284\n",
      "j: 20.0, iteratio: 35, best_score: -11656.69370826441\n",
      "j: 20.0, iteratio: 72, best_score: -11445.703141034179\n",
      "j: 19.8, iteratio: 13, best_score: -11445.362931843467\n",
      "j: 19.6, iteratio: 47, best_score: -11402.393513121946\n",
      "j: 19.400000000000002, iteratio: 11, best_score: -11385.865834706947\n",
      "best score so far:{}\n",
      " -11385.865834706947\n",
      "key: {} \n",
      " [['G' 'Y' 'V' 'S' 'Q']\n",
      " ['Z' 'M' 'U' 'F' 'A']\n",
      " ['L' 'D' 'W' 'B' 'O']\n",
      " ['K' 'I' 'X' 'H' 'P']\n",
      " ['R' 'E' 'T' 'N' 'C']]\n",
      "iteration in\n",
      "j: 20.0, iteratio: 28, best_score: -11537.47843394014\n",
      "j: 20.0, iteratio: 75, best_score: -11451.836665505914\n",
      "j: 19.8, iteratio: 46, best_score: -11342.367344332246\n",
      "best score so far:{}\n",
      " -11342.367344332246\n",
      "key: {} \n",
      " [['Z' 'M' 'U' 'F' 'A']\n",
      " ['C' 'Y' 'V' 'S' 'Q']\n",
      " ['L' 'D' 'W' 'T' 'O']\n",
      " ['K' 'I' 'X' 'H' 'G']\n",
      " ['R' 'E' 'B' 'N' 'P']]\n",
      "iteration in\n",
      "j: 20.0, iteratio: 0, best_score: -11707.680733279238\n",
      "j: 20.0, iteratio: 20, best_score: -11649.298297217314\n",
      "j: 20.0, iteratio: 31, best_score: -11620.086380859313\n",
      "j: 19.8, iteratio: 74, best_score: -11616.533127209963\n",
      "j: 19.400000000000002, iteratio: 36, best_score: -11597.859982910444\n",
      "j: 19.400000000000002, iteratio: 77, best_score: -11580.036391937614\n",
      "j: 19.200000000000003, iteratio: 54, best_score: -11567.72994655371\n",
      "j: 19.200000000000003, iteratio: 83, best_score: -11549.265883805714\n"
     ]
    },
    {
     "data": {
      "text/plain": [
       "'DRPQARUIQTWBDSFEVMMQIFZDKHQMBNIFMAIEADHRXISEESMRYQSETISESDMAIPXFFKQLAMOMDEMUGNDZTIBGKVBFLZBGXCXOOXNBBGWYQNDXBLYWOMSFWDSRSALHEXPKIEPXATBAMAMIAKIEDVCBQRQKPISETISESDENSDDFEZKSAMXIIRHCBGWXSFOXGHRAPEEDYMMPXEDSMBGKMTOXVAQNEXPKMYEHEISYQYZUADHRXOSEESMRYMNXZPMVSKIOHRNXTNLHMAEVHRYQFENGAMNRSEQXEFOQIEMKKSBHIFYQEXKGASLZSWNAHRFIEXEFVDQAMAIWQNSKBHOQSFHRXIOEHTVNDWMTHLTIIHKQPXMVQKMOEXPKHFOXGKXWSCFWMOPQSTZDFEPZBLIFZUAVEXHFAZMTSFDQEIKNIFOMIELAVOVMQDZMIESDADHRHKXOFIAMIFYWPRSAPCAXYWEXNVTISESDNLKSXZQNMAHLWBGUKHHTEXWBDPWASEESVMYQEXDFEZKSAMXIIEYKICKSTGDSFHNXTNRYIEDVCBVPOEWHANALPFQYLZBGQNEXDFZKSEUIAMLHVNOECSPIPXXIOMUHTIBGKVBFLZBGQRKSFGNDSAANIXVNBKLBHLIEHTEXIFACWHEXRDUBBLHLTIDSRHMARITDSEHVBVXOIFYQDXBLYWOMSFFHHLKHESATNARSBCOEBNIFMAEXIFEIIPEXWBVNXFRYIEDVCBXWOXDSDAUHIRDRAVOKQNZROQSFHRXIKSYTEIOPLBHLMVQAYQDZMTBHZDFEVMMQTNBHUTAXSAASROHFWYPLNKXIHTZDFEVMMQNVKHVNQMWTYQPKXIGNIFZDHFNSRSOVHTEXBLSACYIREXMYBLEPLBDSMAHRFIEXEFVDQAMANGHTEXNVZXUIOPUTHLSDASXFHLSNLHACDZTIRORHCPPFPSXOFEMOLZDROEZDMAFIRSBUMOHUWUSDCHVKTIFISEXEQLOEIEVMSDEXRHLBOHRSEWMDBUXFADXPTIFNMDIXWPRHSDZDIPXFFKQLICACSAKFHTEXMOBXFEASXQHLZXSEIFDAAUZPSAYMOPTIATBAMANGESASLZGUTIFBLTLCSDNFBLENSDITBLXOUTHTWYQNTINFBLENSEEXCPYQFHZMMOPCICWIXEFEXIDEERMTVKTIATBAPREOLQBHUTGXXWPCEXCPYWRKPQNXMVHLSEPKMOPOXFDERKYQWYZLIFPZFIPUIREXWBOPSDIPEXIREXEFAVOKQNENGBTIKPSCIFDSPCBHBKYQYMBGWXKPBNXOEPCRRSBCOEIPOLQNEXTNDSDQLAQXASYATIFGHLCABUFIFORHHLDSYHOVMVBNQNEPOEHRBHTIMTPLQRNSBVHFFWMOXORSBCOEIPHOEXTNROACSWYHXOESFXNSFHZDOEVENVTIEXWBVNWETIXZSFHROEUTEWWIXEMAEXCPMOVNASOPTIQKPISETISESDPIXICWVHPCNSBVITWBKQOXETQNMAXOCPYQWPNBUIENGBXAEPCRIPSFHRQMMAVNYOWXHLOQNIQOWXDEIPGKZDEXEFVDQAMANGIPIOXMGBUIEUXQDWDSXODAEINXNVKHEXWBBUDZTIDWWHEXUTVABHTICSPQBUFLPUSAIREXEFVDQAMAUKSDMODZMADVDSBNBHTISEESMROVEXFWHXGEHFFHPRWBDWEXSEIPERDZTIDWENHISDHFTIUHSDMAIWBHTIOVMVBNQNDSIPMAOVXFIFLZFIWETIOQUVPVFW'"
      ]
     },
     "execution_count": 60,
     "metadata": {},
     "output_type": "execute_result"
    }
   ],
   "source": [
    "playfair_crack_T2(assigned_full_text,3,20,19,100)"
   ]
  },
  {
   "cell_type": "code",
   "execution_count": null,
   "metadata": {},
   "outputs": [],
   "source": []
  },
  {
   "cell_type": "code",
   "execution_count": null,
   "metadata": {},
   "outputs": [],
   "source": []
  },
  {
   "cell_type": "code",
   "execution_count": null,
   "metadata": {},
   "outputs": [],
   "source": []
  },
  {
   "cell_type": "code",
   "execution_count": null,
   "metadata": {},
   "outputs": [],
   "source": []
  }
 ],
 "metadata": {
  "kernelspec": {
   "display_name": "Python 3",
   "language": "python",
   "name": "python3"
  },
  "language_info": {
   "codemirror_mode": {
    "name": "ipython",
    "version": 3
   },
   "file_extension": ".py",
   "mimetype": "text/x-python",
   "name": "python",
   "nbconvert_exporter": "python",
   "pygments_lexer": "ipython3",
   "version": "3.8.5"
  }
 },
 "nbformat": 4,
 "nbformat_minor": 4
}
